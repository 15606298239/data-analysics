{
 "cells": [
  {
   "cell_type": "code",
   "execution_count": null,
   "metadata": {},
   "outputs": [],
   "source": [
    "from random import randint\n",
    "import requests, os, json, re,datetime,time\n",
    "import pandas as pd"
   ]
  },
  {
   "cell_type": "code",
   "execution_count": null,
   "metadata": {},
   "outputs": [],
   "source": [
    "index_list = ['sh000300', 'sh000001']\n",
    "all_data_path = os.path.abspath(os.path.dirname(__file__))  # 返回当前文件路径"
   ]
  },
  {
   "cell_type": "code",
   "execution_count": null,
   "metadata": {},
   "outputs": [],
   "source": [
    "headers = {\n",
    "    'User-Agent': 'Mozilla/5.0 (Windows NT 10.0; Win64; x64) AppleWebKit/537.36 (KHTML, like Gecko) Chrome/97.0.4692.71 Safari/537.36 Edg/97.0.1072.62'\n",
    " \n",
    "}"
   ]
  },
  {
   "cell_type": "code",
   "execution_count": null,
   "metadata": {},
   "outputs": [],
   "source": [
    "for index in index_list:\n",
    "    print(index)\n",
    "    url = 'https://proxy.finance.qq.com/ifzqgtimg/appstock/app/newfqkline/get'\n",
    "    start_time = '1900-01-01'\n",
    "    end_time = ''\n",
    "    df_list = []\n",
    "    while True:\n",
    "        params = {\n",
    "            '_var': 'kline_dayqfq',\n",
    "            'param': f'{index},day,{start_time},{end_time},2000,qfq',\n",
    "            'r': f'0.{randint(10 ** 15, (10 ** 16) - 1)}',\n",
    "        }\n",
    "        res = requests.get(url, params=params, headers=headers)\n",
    "        res_json = json.loads(re.findall('kline_dayqfq=(.*)', res.text)[0])\n",
    "        if res_json['code'] == 0:\n",
    "            _df = pd.DataFrame(res_json['data'][index]['day'])\n",
    "            df_list.append(_df)\n",
    "            if _df.shape[0] <= 1:\n",
    "                break\n",
    "            end_time = _df.iloc[0][0]\n",
    "        time.sleep(2)\n",
    "    df = pd.concat(df_list, ignore_index=True)\n",
    "    # ===对数据进行整理\n",
    "    rename_dict = {0: 'candle_end_time', 1: 'open', 2: 'close', 3: 'high', 4: 'low', 5: 'amount', 6: 'info'}\n",
    "    # 其中amount单位是手，说明数据不够精确\n",
    "    df.rename(columns=rename_dict, inplace=True)\n",
    "    df['candle_end_time'] = pd.to_datetime(df['candle_end_time'])\n",
    "    df.drop_duplicates('candle_end_time', inplace=True)  # 去重\n",
    "    df.sort_values('candle_end_time', inplace=True)\n",
    "    df['candle_end_time'] = df['candle_end_time'].dt.strftime('%Y-%m-%d')\n",
    "    if 'info' not in df:\n",
    "        df['info'] = None\n",
    "    df = df[['candle_end_time', 'open', 'high', 'low', 'close', 'amount', 'info']]\n",
    "    start = datetime.datetime.now().strftime('%Y-%m-%d') + ' ' + '9:30'\n",
    "    start = datetime.datetime.strptime(start, \"%Y-%m-%d %H:%M\")\n",
    " \n",
    "    end = datetime.datetime.now().strftime('%Y-%m-%d') + ' ' + '15:00'\n",
    "    end = datetime.datetime.strptime(end, \"%Y-%m-%d %H:%M\")\n",
    "    to_csv_path = all_data_path + '/index'\n",
    "    if not os.path.exists(to_csv_path):  # 判断文件夹是否存在\n",
    "        os.makedirs(to_csv_path)  # 不存在则创建\n",
    "    df.to_csv(to_csv_path + '/%s.csv' % index, index=False, encoding='gbk')\n"
   ]
  },
  {
   "cell_type": "code",
   "execution_count": null,
   "metadata": {},
   "outputs": [],
   "source": []
  }
 ],
 "metadata": {
  "language_info": {
   "name": "python"
  },
  "orig_nbformat": 4
 },
 "nbformat": 4,
 "nbformat_minor": 2
}
